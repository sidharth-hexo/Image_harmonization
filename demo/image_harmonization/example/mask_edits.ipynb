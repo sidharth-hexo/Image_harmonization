{
 "cells": [
  {
   "cell_type": "code",
   "execution_count": null,
   "metadata": {},
   "outputs": [],
   "source": [
    "import cv2\n",
    "import numpy as np\n",
    "\n",
    "im = cv2.imread('Harmonizer/demo/image_harmonization/example/backgrounds/04 opt.jpg')\n",
    "\n",
    "wreq, hreq, _ = im.shape\n",
    "\n",
    "existing_mask = cv2.imread('Harmonizer/demo/image_harmonization/example/masks/mask_01 copy.jpg', 0)\n",
    "fgd_im = cv2.imread('Harmonizer/demo/image_harmonization/example/foregrounds/01 copy.jpg')\n",
    "\n",
    "w, h, _ = fgd_im.shape\n",
    "\n",
    "# pad the mask to fit wreq and hreq\n",
    "pad_w = wreq - w\n",
    "pad_h = hreq - h\n",
    "\n",
    "existing_mask = np.pad(existing_mask, ((0, pad_w), (0, pad_h)), 'constant', constant_values=0)\n",
    "\n"
   ]
  }
 ],
 "metadata": {
  "language_info": {
   "name": "python"
  },
  "orig_nbformat": 4
 },
 "nbformat": 4,
 "nbformat_minor": 2
}
